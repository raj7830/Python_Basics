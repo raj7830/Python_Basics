{
  "nbformat": 4,
  "nbformat_minor": 0,
  "metadata": {
    "colab": {
      "provenance": []
    },
    "kernelspec": {
      "name": "python3",
      "display_name": "Python 3"
    },
    "language_info": {
      "name": "python"
    }
  },
  "cells": [
    {
      "cell_type": "code",
      "source": [
        "import numpy as np\n",
        "import matplotlib.pyplot as plt\n",
        "import matplotlib.patches as patches\n",
        "import pandas as pd\n",
        "import os\n",
        "import math"
      ],
      "metadata": {
        "id": "FOEoJ4nCOkmA"
      },
      "execution_count": null,
      "outputs": []
    },
    {
      "cell_type": "markdown",
      "source": [
        "1. Write a function module for the following tasks:\n",
        "\n",
        " (a) To determine the probability\n",
        "mass function of Bernoulli and Binomial distribution."
      ],
      "metadata": {
        "id": "bCiKUXPp37jc"
      }
    },
    {
      "cell_type": "code",
      "execution_count": null,
      "metadata": {
        "id": "S7sLoyxWG4tL"
      },
      "outputs": [],
      "source": [
        "# Bernoulli Distribution\n",
        "p_ber=float(input('enter the value of p_ber'))\n",
        "n_ber=float(input('enter the value of n_ber'))\n",
        "def bernoli_pmf(p,n):\n",
        "  if n==0:\n",
        "    return 1-p\n",
        "  elif n==1:\n",
        "    return p\n",
        "  else:\n",
        "    return 0\n",
        "pmf_ber=bernoli_pmf(p_ber,n_ber)\n",
        "pmf_ber\n"
      ]
    },
    {
      "cell_type": "code",
      "source": [
        "# Binomial Distribution\n",
        "\n",
        "n=int(input('enter number of trials n :'))\n",
        "p_bino=float(input('Enter probability of success in a single trial'))\n",
        "r_bino=int(input('Enter number of successful trials'))\n",
        "def binomial_pmf(n,p,r):\n",
        "  if 0<r<n:\n",
        "    return math.comb(n,r)*(p**r)*((1-p)**(n-r))\n",
        "  else:\n",
        "    return 0\n",
        "pmf_binomial=binomial_pmf(n,p_bino,r_bino)\n",
        "pmf_binomial"
      ],
      "metadata": {
        "id": "ChHLrTMrgx2Y"
      },
      "execution_count": null,
      "outputs": []
    },
    {
      "cell_type": "markdown",
      "source": [
        "\n",
        "(b) To determine the probability density function of Normal distribution."
      ],
      "metadata": {
        "id": "1w3DtD4E8jJJ"
      }
    },
    {
      "cell_type": "code",
      "source": [
        "x = float(input('Enter the value of x : '))\n",
        "Mean = float(input('Enter mean :'))\n",
        "std_dev=float(input('Enter standard deviation : '))\n",
        "\n",
        "def normal_pdf(x,mu,std):\n",
        "  coefficient=1/(std*np.sqrt(2*np.pi))\n",
        "  exponent=-((x-mu)**2/(2*(std**2)))\n",
        "  pdf=coefficient*np.exp(exponent)\n",
        "  return pdf\n",
        "\n",
        "pdf_normal=normal_pdf(x,Mean,std_dev)\n",
        "pdf_normal"
      ],
      "metadata": {
        "id": "WWDWUlf_8fW9",
        "colab": {
          "base_uri": "https://localhost:8080/"
        },
        "outputId": "129b9f9e-13d5-4faf-bb0d-324197205138"
      },
      "execution_count": null,
      "outputs": [
        {
          "name": "stdout",
          "output_type": "stream",
          "text": [
            "Enter the value of x : 0.2\n",
            "Enter mean :100\n",
            "Enter standard deviation : 6\n"
          ]
        },
        {
          "output_type": "execute_result",
          "data": {
            "text/plain": [
              "5.5605046821235e-62"
            ]
          },
          "metadata": {},
          "execution_count": 8
        }
      ]
    },
    {
      "cell_type": "markdown",
      "source": [
        "2. Draw a figure that consists of the following subfigures: (a) Circle 1: x\n",
        "2 + y\n",
        "2 = 3\n",
        "\n",
        "(b) Circle 2: x\n",
        "2 + y\n",
        "2 = 2\n",
        "\n",
        "(c) Red colour between Circle 1 and Circle 2\n",
        "\n",
        "(d) Green\n",
        "colour inside Circle 2.\n"
      ],
      "metadata": {
        "id": "_2DSfA8S8mvg"
      }
    },
    {
      "cell_type": "code",
      "source": [
        "\n",
        "fig = plt.figure()\n",
        "ax = fig.add_subplot()\n",
        "\n",
        "r_1 = np.sqrt(3)\n",
        "r_2 = np.sqrt(2)\n",
        "\n",
        "circle_1 = patches.Circle((0,0) , r_1 , color = 'red')\n",
        "circle_2 = patches.Circle((0,0) , r_2 , color = 'green')\n",
        "\n",
        "ax.add_patch(circle_1)\n",
        "ax.add_patch(circle_2)\n",
        "\n",
        "ax.axis('equal')\n",
        "\n",
        "plt.show()"
      ],
      "metadata": {
        "colab": {
          "base_uri": "https://localhost:8080/",
          "height": 430
        },
        "id": "Xw-k9lbwODSE",
        "outputId": "d5caacf2-b892-40b0-eaf7-0a3c2428bd44"
      },
      "execution_count": null,
      "outputs": [
        {
          "output_type": "display_data",
          "data": {
            "text/plain": [
              "<Figure size 640x480 with 1 Axes>"
            ],
            "image/png": "[encoded data removed]"
          },
          "metadata": {}
        }
      ]
    },
    {
      "cell_type": "markdown",
      "source": [
        "3. Draw a figure that consists of the following subfigures:\n",
        "\n",
        "(a) Line 1: 6x − 9y + 2 = 0\n",
        "(b) Line 2: 6x−9y+2 = 1 (c) Line 3: 6x−9y+2 = −1 (d) A segment that connects\n",
        "6x − 9y + 2 = 1 and 6x − 9y + 2 = −1. (e) Blue colour above 6x − 9y + 2 = 1\n",
        "and yellow colour below 6x − 9y + 2 = −1."
      ],
      "metadata": {
        "id": "5ykYHLfUhvTY"
      }
    },
    {
      "cell_type": "code",
      "source": [
        "x = np.linspace(0,1,100)\n",
        "ln1 = []\n",
        "ln2 = []\n",
        "ln3 = []\n",
        "for i in range(len(x)):\n",
        "\n",
        "  y1 = (1/9)*(6*x[i] + 2)\n",
        "  y2 = (1/9)*(6*x[i] + 1)\n",
        "  y3 = (1/9)*(6*x[i] + 3)\n",
        "\n",
        "  ln1.append(y1)\n",
        "  ln2.append(y2)\n",
        "  ln3.append(y3)\n",
        "\n",
        "plt.plot(x, ln1 , color='black')\n",
        "plt.plot(x , ln2 , color = 'green')\n",
        "plt.plot(x , ln3 , color = 'red')\n",
        "\n",
        "ln2_point = [0.4, (6 * 0.4 + 1) / 9]\n",
        "ln3_point = [0.4, (6 * 0.4 + 3) / 9]\n",
        "l23 = [[ln2_point[0], ln3_point[0]], [ln2_point[1], ln3_point[1]]]\n",
        "plt.plot(l23[0], l23[1], color='black')\n",
        "\n",
        "plt.fill_between(x , ln2 , ln1 , color ='blue' )\n",
        "plt.fill_between(x , ln1 , ln3 , color = 'yellow')"
      ],
      "metadata": {
        "colab": {
          "base_uri": "https://localhost:8080/",
          "height": 448
        },
        "id": "0IjIkNL5hvCF",
        "outputId": "99330e4b-a928-4b54-8ee0-c81752024563"
      },
      "execution_count": null,
      "outputs": [
        {
          "output_type": "execute_result",
          "data": {
            "text/plain": [
              "<matplotlib.collections.PolyCollection at 0x7c6f85b13070>"
            ]
          },
          "metadata": {},
          "execution_count": 10
        },
        {
          "output_type": "display_data",
          "data": {
            "text/plain": [
              "<Figure size 640x480 with 1 Axes>"
            ],
            "image/png": "[encoded data removed]"
          },
          "metadata": {}
        }
      ]
    },
    {
      "cell_type": "markdown",
      "source": [
        "4. Write a function that could perform the following tasks:\n",
        "\n",
        "(a) Generate 1000 data\n",
        "points that satisfy -8x -3y +2z -11 =0.\n",
        "\n",
        "(b) Create a folder in the current directory\n",
        "and store the date generated in text as well as CSV format."
      ],
      "metadata": {
        "id": "mjZhrPuYizZ1"
      }
    },
    {
      "cell_type": "code",
      "source": [
        "from google.colab import drive\n",
        "drive.mount('/content/drive')"
      ],
      "metadata": {
        "colab": {
          "base_uri": "https://localhost:8080/"
        },
        "id": "IhMCISjZ1e12",
        "outputId": "a7a70578-2360-468d-92a5-ae796f170d46"
      },
      "execution_count": null,
      "outputs": [
        {
          "output_type": "stream",
          "name": "stdout",
          "text": [
            "Mounted at /content/drive\n"
          ]
        }
      ]
    },
    {
      "cell_type": "code",
      "source": [
        "x = np.linspace(0,500,1000)\n",
        "y = np.linspace(0,500,1000)\n",
        "z = []\n",
        "for i in range(len(x)):\n",
        "  h = 0.5*((11) + 8*(x[i]) + (3)*(y[i]))\n",
        "  z.append(h)\n",
        "\n",
        "data_points = [x,y,z]\n",
        "\n",
        "data_points\n",
        "\n",
        "plt.axes(projection='3d').scatter(x, y, z, marker='.')"
      ],
      "metadata": {
        "id": "kT9TYp68iy8o"
      },
      "execution_count": null,
      "outputs": []
    },
    {
      "cell_type": "code",
      "source": [
        "folder_name = \"generated_data\"\n",
        "os.makedirs(folder_name, exist_ok=True)\n",
        "\n",
        "data = pd.DataFrame({'x': x, 'y': y, 'z': z})\n",
        "\n",
        "txt_file_path = os.path.join(folder_name, \"data.txt\")\n",
        "data.to_csv(txt_file_path, sep='\\t')\n",
        "\n",
        "csv_file_path = os.path.join(folder_name, \"data.csv\")\n",
        "data.to_csv(csv_file_path,sep='\\t')\n",
        "\n",
        "\n",
        "print(\"Data has been generated\")\n",
        "print(f\"Text file: {txt_file_path}\")\n",
        "print(f\"CSV file: {csv_file_path}\")\n"
      ],
      "metadata": {
        "id": "RgX6nWFM2J_k",
        "colab": {
          "base_uri": "https://localhost:8080/"
        },
        "outputId": "8e23f9b0-2e79-47be-a387-ca07b97689c4"
      },
      "execution_count": null,
      "outputs": [
        {
          "output_type": "stream",
          "name": "stdout",
          "text": [
            "Data has been generated\n",
            "Text file: generated_data/data.txt\n",
            "CSV file: generated_data/data.csv\n"
          ]
        }
      ]
    },
    {
      "cell_type": "code",
      "source": [],
      "metadata": {
        "id": "H5ns4zOg3dVW"
      },
      "execution_count": null,
      "outputs": []
    }
  ]
}